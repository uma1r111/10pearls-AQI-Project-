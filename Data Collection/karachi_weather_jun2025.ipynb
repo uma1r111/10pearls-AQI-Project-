{
  "cells": [
    {
      "cell_type": "code",
      "execution_count": 7,
      "metadata": {
        "id": "8EvN4HtbxVjJ"
      },
      "outputs": [],
      "source": [
        "import requests\n",
        "import pandas as pd\n",
        "from datetime import datetime"
      ]
    },
    {
      "cell_type": "code",
      "execution_count": 8,
      "metadata": {
        "id": "YH7XBeCUxpcw"
      },
      "outputs": [],
      "source": [
        "# Karachi coordinates\n",
        "latitude = 24.8607\n",
        "longitude = 67.0011"
      ]
    },
    {
      "cell_type": "code",
      "execution_count": null,
      "metadata": {
        "id": "rI-2Sqsxxryk"
      },
      "outputs": [],
      "source": [
        "# Define the date range\n",
        "start_date = \"2025-04-15\"\n",
        "end_date = \"2025-06-28\""
      ]
    },
    {
      "cell_type": "code",
      "execution_count": 10,
      "metadata": {
        "id": "G44K6yR4xuXH"
      },
      "outputs": [],
      "source": [
        "# Open-Meteo real-time historical API (recent past)\n",
        "url = (\n",
        "    f\"https://api.open-meteo.com/v1/forecast?\"\n",
        "    f\"latitude={latitude}&longitude={longitude}\"\n",
        "    f\"&start_date={start_date}&end_date={end_date}\"\n",
        "    \"&hourly=temperature_2m,relative_humidity_2m,wind_speed_10m,precipitation\"\n",
        "    \"&timezone=Asia%2FKarachi\"\n",
        ")"
      ]
    },
    {
      "cell_type": "code",
      "execution_count": 11,
      "metadata": {
        "id": "rpTLg386xw2U"
      },
      "outputs": [],
      "source": [
        "# Send the request\n",
        "response = requests.get(url)\n",
        "data = response.json()"
      ]
    },
    {
      "cell_type": "code",
      "execution_count": null,
      "metadata": {
        "colab": {
          "base_uri": "https://localhost:8080/"
        },
        "id": "tFkM_VDexzq4",
        "outputId": "a855b909-12ac-42b7-9fe7-61c0b1587c2c"
      },
      "outputs": [
        {
          "name": "stdout",
          "output_type": "stream",
          "text": [
            "✅ Historical weather data saved to karachi_weather_jun2025.csv\n"
          ]
        }
      ],
      "source": [
        "# Convert to DataFrame\n",
        "df = pd.DataFrame(data[\"hourly\"])\n",
        "df[\"time\"] = pd.to_datetime(df[\"time\"])\n",
        "df.to_csv(\"karachi_weather_jun2025.csv\", index=False)\n",
        "\n",
        "print(\"Historical weather data saved to karachi_weather_jun2025.csv\")"
      ]
    }
  ],
  "metadata": {
    "colab": {
      "provenance": []
    },
    "kernelspec": {
      "display_name": "Python 3",
      "name": "python3"
    },
    "language_info": {
      "name": "python"
    }
  },
  "nbformat": 4,
  "nbformat_minor": 0
}
