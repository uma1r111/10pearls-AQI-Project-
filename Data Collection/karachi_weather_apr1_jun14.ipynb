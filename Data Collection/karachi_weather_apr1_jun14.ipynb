{
  "cells": [
    {
      "cell_type": "code",
      "execution_count": null,
      "metadata": {
        "id": "Vv1vG53iisqs"
      },
      "outputs": [],
      "source": [
        "import requests\n",
        "import pandas as pd\n",
        "from datetime import datetime, timedelta"
      ]
    },
    {
      "cell_type": "code",
      "execution_count": null,
      "metadata": {
        "id": "PPkvPnrRiyHg"
      },
      "outputs": [],
      "source": [
        "# Your API key and location\n",
        "API_KEY = \"\"\n",
        "location = \"Karachi\""
      ]
    },
    {
      "cell_type": "code",
      "execution_count": null,
      "metadata": {
        "id": "KzRwUjsEi0Ek"
      },
      "outputs": [],
      "source": [
        "# Define the full date range\n",
        "start_date = datetime(2025, 4, 1)\n",
        "end_date = datetime(2025, 6, 14)"
      ]
    },
    {
      "cell_type": "code",
      "execution_count": null,
      "metadata": {
        "id": "SQds8V5ki2Fg"
      },
      "outputs": [],
      "source": [
        "# Store all hourly records\n",
        "all_data = []"
      ]
    },
    {
      "cell_type": "code",
      "execution_count": null,
      "metadata": {
        "id": "bBp0NW8ai4IN"
      },
      "outputs": [],
      "source": [
        "# Loop in 10-day chunks\n",
        "delta = timedelta(days=10)\n",
        "current_start = start_date"
      ]
    },
    {
      "cell_type": "code",
      "execution_count": null,
      "metadata": {
        "id": "6DvwYEWdi7q7"
      },
      "outputs": [],
      "source": [
        "while current_start < end_date:\n",
        "    current_end = min(current_start + delta, end_date)\n",
        "    start_str = current_start.strftime(\"%Y-%m-%d\")\n",
        "    end_str = current_end.strftime(\"%Y-%m-%d\")\n",
        "\n",
        "    print(f\"Fetching: {start_str} to {end_str}\")\n",
        "    url = (\n",
        "        f\"https://weather.visualcrossing.com/VisualCrossingWebServices/rest/services/timeline/\"\n",
        "        f\"{location}/{start_str}/{end_str}\"\n",
        "        f\"?unitGroup=metric&include=hours&key={API_KEY}&contentType=json\"\n",
        "    )\n",
        "\n",
        "    response = requests.get(url)\n",
        "    if response.status_code != 200:\n",
        "        print(\"Failed:\", response.status_code)\n",
        "        print(response.text)\n",
        "        break\n",
        "\n",
        "    data = response.json()\n",
        "    for day in data[\"days\"]:\n",
        "        for hour in day[\"hours\"]:\n",
        "            hour_record = {\n",
        "                \"datetime\": f\"{day['datetime']} {hour['datetime']}\",\n",
        "                \"temp_C\": hour.get(\"temp\"),\n",
        "                \"humidity_%\": hour.get(\"humidity\"),\n",
        "                \"windspeed_kph\": hour.get(\"windspeed\"),\n",
        "                \"precip_mm\": hour.get(\"precip\"),\n",
        "            }\n",
        "            all_data.append(hour_record)\n",
        "\n",
        "    current_start = current_end + timedelta(days=1)\n"
      ]
    },
    {
      "cell_type": "code",
      "execution_count": null,
      "metadata": {
        "id": "psGxKt8Ei_9v"
      },
      "outputs": [],
      "source": [
        "# Save to CSV\n",
        "df = pd.DataFrame(all_data)\n",
        "df[\"datetime\"] = pd.to_datetime(df[\"datetime\"])\n",
        "df.to_csv(\"karachi_weather_apr_to_jun14.csv\", index=False)\n",
        "\n",
        "print(\"All chunks saved to karachi_weather_apr1_to_jun14.csv\")"
      ]
    }
  ],
  "metadata": {
    "colab": {
      "provenance": []
    },
    "kernelspec": {
      "display_name": "Python 3",
      "name": "python3"
    },
    "language_info": {
      "name": "python"
    }
  },
  "nbformat": 4,
  "nbformat_minor": 0
}
