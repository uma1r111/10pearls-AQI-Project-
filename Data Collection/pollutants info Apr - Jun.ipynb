{
  "nbformat": 4,
  "nbformat_minor": 0,
  "metadata": {
    "colab": {
      "provenance": []
    },
    "kernelspec": {
      "name": "python3",
      "display_name": "Python 3"
    },
    "language_info": {
      "name": "python"
    }
  },
  "cells": [
    {
      "cell_type": "code",
      "source": [
        "import requests\n",
        "import pandas as pd"
      ],
      "metadata": {
        "id": "yqWapWhAUu7j"
      },
      "execution_count": 69,
      "outputs": []
    },
    {
      "cell_type": "code",
      "source": [
        "# Coordinates for Karachi\n",
        "latitude = 24.8607\n",
        "longitude = 67.0011"
      ],
      "metadata": {
        "id": "BqXmZPaLX1Tz"
      },
      "execution_count": 70,
      "outputs": []
    },
    {
      "cell_type": "code",
      "source": [
        "# Date range\n",
        "start_date = \"2025-04-01\"\n",
        "end_date = \"2025-06-28\""
      ],
      "metadata": {
        "id": "aJvVGGnLX3H_"
      },
      "execution_count": 71,
      "outputs": []
    },
    {
      "cell_type": "code",
      "source": [
        "# API request with past_days=92 → includes historical, present, and forecast data\n",
        "url = (\n",
        "    \"https://air-quality-api.open-meteo.com/v1/air-quality\"\n",
        "    f\"?latitude={latitude}&longitude={longitude}\"\n",
        "    \"&hourly=pm10,pm2_5,carbon_monoxide,nitrogen_dioxide,sulphur_dioxide,ozone,us_aqi\"\n",
        "    \"&past_days=92\"\n",
        ")"
      ],
      "metadata": {
        "id": "bL0lNXIfX4yS"
      },
      "execution_count": 72,
      "outputs": []
    },
    {
      "cell_type": "code",
      "source": [
        "resp = requests.get(url)\n",
        "resp.raise_for_status()\n",
        "data = resp.json()"
      ],
      "metadata": {
        "id": "pAaZLmpcX6tx"
      },
      "execution_count": 73,
      "outputs": []
    },
    {
      "cell_type": "code",
      "source": [
        "# Convert to DataFrame\n",
        "df = pd.DataFrame({\n",
        "    \"datetime\": data[\"hourly\"][\"time\"],\n",
        "    \"pm10\": data[\"hourly\"][\"pm10\"],\n",
        "    \"pm2_5\": data[\"hourly\"][\"pm2_5\"],\n",
        "    \"co\": data[\"hourly\"][\"carbon_monoxide\"],\n",
        "    \"no2\": data[\"hourly\"][\"nitrogen_dioxide\"],\n",
        "    \"so2\": data[\"hourly\"][\"sulphur_dioxide\"],\n",
        "    \"o3\": data[\"hourly\"][\"ozone\"],\n",
        "    \"aqi_us\": data[\"hourly\"][\"us_aqi\"],\n",
        "})"
      ],
      "metadata": {
        "id": "ewpWbAQVX8xE"
      },
      "execution_count": 74,
      "outputs": []
    },
    {
      "cell_type": "code",
      "source": [
        "df[\"datetime\"] = pd.to_datetime(df[\"datetime\"])\n",
        "df.to_csv(\"karachi_openmeteo_past92.csv\", index=False)\n",
        "print(\"✅ Saved: karachi_openmeteo_past92.csv\")"
      ],
      "metadata": {
        "colab": {
          "base_uri": "https://localhost:8080/"
        },
        "id": "lHc3jCM7X-0Y",
        "outputId": "70c1757d-8ca3-4885-889c-ac1b80362be2"
      },
      "execution_count": 75,
      "outputs": [
        {
          "output_type": "stream",
          "name": "stdout",
          "text": [
            "✅ Saved: karachi_openmeteo_past92.csv\n"
          ]
        }
      ]
    }
  ]
}